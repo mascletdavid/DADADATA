{
 "cells": [
  {
   "cell_type": "code",
   "execution_count": null,
   "id": "4bd2cb6e",
   "metadata": {},
   "outputs": [],
   "source": [
    "# Importation des bibliothèques\n",
    "import pandas as pd\n",
    "import numpy as np\n",
    "import seaborn as sns\n",
    "import matplotlib.pyplot as plt\n",
    "import plotly.express as px"
   ]
  },
  {
   "cell_type": "code",
   "execution_count": null,
   "id": "d5b2b031",
   "metadata": {},
   "outputs": [],
   "source": [
    "df1 = pd.read_csv(\"./DataForTable2.1_2024.csv\")\n",
    "df1.head()"
   ]
  }
 ],
 "metadata": {
  "kernelspec": {
   "display_name": "Python 3",
   "language": "python",
   "name": "python3"
  },
  "language_info": {
   "name": "python",
   "version": "3.12.1"
  }
 },
 "nbformat": 4,
 "nbformat_minor": 5
}
